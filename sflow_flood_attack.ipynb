{
  "nbformat": 4,
  "nbformat_minor": 0,
  "metadata": {
    "colab": {
      "provenance": [],
      "authorship_tag": "ABX9TyNJTFemCR6ZIJ/7//sha57B",
      "include_colab_link": true
    },
    "kernelspec": {
      "name": "python3",
      "display_name": "Python 3"
    },
    "language_info": {
      "name": "python"
    }
  },
  "cells": [
    {
      "cell_type": "markdown",
      "metadata": {
        "id": "view-in-github",
        "colab_type": "text"
      },
      "source": [
        "<a href=\"https://colab.research.google.com/github/harshavardhanb77/Ddos_Threat_Analysis/blob/main/sflow_flood_attack.ipynb\" target=\"_parent\"><img src=\"https://colab.research.google.com/assets/colab-badge.svg\" alt=\"Open In Colab\"/></a>"
      ]
    },
    {
      "cell_type": "code",
      "execution_count": null,
      "metadata": {
        "colab": {
          "base_uri": "https://localhost:8080/"
        },
        "id": "pxNDGStSxQwA",
        "outputId": "f8b6d8c5-b67f-41fd-876e-d46487f0cf83"
      },
      "outputs": [
        {
          "output_type": "stream",
          "name": "stdout",
          "text": [
            "Normal\n"
          ]
        }
      ],
      "source": [
        "import json\n",
        "import numpy as np\n",
        "from sklearn.tree import DecisionTreeClassifier\n",
        "\n",
        "# Function to load sFlow data from a file\n",
        "def load_sflow_data(file_path):\n",
        "    with open(file_path, 'r') as file:\n",
        "        sflow_data = json.load(file)\n",
        "    return sflow_data\n",
        "\n",
        "# Function to extract features from sFlow data\n",
        "def extract_features(sflow_data):\n",
        "    packet_counts = len(sflow_data['samples'])\n",
        "    total_packet_size = sum(int(element['sampledPacketSize']) for sample in sflow_data['samples'] for element in sample['elements'])\n",
        "    average_packet_size = total_packet_size / packet_counts if packet_counts else 0\n",
        "    dst_ips = [element['dstIP'] for sample in sflow_data['samples'] for element in sample['elements']]\n",
        "    unique_dst_ips = len(set(dst_ips))\n",
        "\n",
        "    features = np.array([packet_counts, average_packet_size, unique_dst_ips]).reshape(1, -1)\n",
        "    return features\n",
        "\n",
        "# Dummy function to train a model\n",
        "def train_dummy_model():\n",
        "    X_train = np.array([[100, 150, 1], [10, 64, 10]])\n",
        "    y_train = np.array([1, 0])\n",
        "    model = DecisionTreeClassifier()\n",
        "    model.fit(X_train, y_train)\n",
        "    return model\n",
        "\n",
        "# Function to predict flood attack\n",
        "def predict_flood_attack(sflow_data):\n",
        "    model = train_dummy_model()\n",
        "    features = extract_features(sflow_data)\n",
        "    prediction = model.predict(features)\n",
        "    return \"Attack\" if prediction[0] == 1 else \"Normal\"\n",
        "\n",
        "# Path to sFlow data file\n",
        "file_path = '/content/sflow-data.json'  # Change this to the actual file path\n",
        "\n",
        "# Load sFlow data from file\n",
        "sflow_data = load_sflow_data(file_path)\n",
        "\n",
        "# Predict if it's a flood attack\n",
        "result = predict_flood_attack(sflow_data)\n",
        "print(result)\n"
      ]
    }
  ]
}