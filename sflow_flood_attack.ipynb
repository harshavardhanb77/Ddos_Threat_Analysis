{
  "nbformat": 4,
  "nbformat_minor": 0,
  "metadata": {
    "colab": {
      "provenance": [],
      "authorship_tag": "ABX9TyPRfZuhglCUJVeAzHpW7xyP",
      "include_colab_link": true
    },
    "kernelspec": {
      "name": "python3",
      "display_name": "Python 3"
    },
    "language_info": {
      "name": "python"
    }
  },
  "cells": [
    {
      "cell_type": "markdown",
      "metadata": {
        "id": "view-in-github",
        "colab_type": "text"
      },
      "source": [
        "<a href=\"https://colab.research.google.com/github/harshavardhanb77/Ddos_Threat_Analysis/blob/main/sflow_flood_attack.ipynb\" target=\"_parent\"><img src=\"https://colab.research.google.com/assets/colab-badge.svg\" alt=\"Open In Colab\"/></a>"
      ]
    },
    {
      "cell_type": "code",
      "execution_count": null,
      "metadata": {
        "colab": {
          "base_uri": "https://localhost:8080/"
        },
        "id": "pxNDGStSxQwA",
        "outputId": "f8b6d8c5-b67f-41fd-876e-d46487f0cf83"
      },
      "outputs": [
        {
          "output_type": "stream",
          "name": "stdout",
          "text": [
            "Normal\n"
          ]
        }
      ],
      "source": [
        "import json\n",
        "import numpy as np\n",
        "from sklearn.tree import DecisionTreeClassifier\n",
        "\n",
        "# Function to load sFlow data from a file\n",
        "def load_sflow_data(file_path):\n",
        "    with open(file_path, 'r') as file:\n",
        "        sflow_data = json.load(file)\n",
        "    return sflow_data\n",
        "\n",
        "# Function to extract features from sFlow data\n",
        "def extract_features(sflow_data):\n",
        "    packet_counts = len(sflow_data['samples'])\n",
        "    total_packet_size = sum(int(element['sampledPacketSize']) for sample in sflow_data['samples'] for element in sample['elements'])\n",
        "    average_packet_size = total_packet_size / packet_counts if packet_counts else 0\n",
        "    dst_ips = [element['dstIP'] for sample in sflow_data['samples'] for element in sample['elements']]\n",
        "    unique_dst_ips = len(set(dst_ips))\n",
        "\n",
        "    features = np.array([packet_counts, average_packet_size, unique_dst_ips]).reshape(1, -1)\n",
        "    return features\n",
        "\n",
        "# Dummy function to train a model\n",
        "def train_dummy_model():\n",
        "    X_train = np.array([[100, 150, 1], [10, 64, 10]])\n",
        "    y_train = np.array([1, 0])\n",
        "    model = DecisionTreeClassifier()\n",
        "    model.fit(X_train, y_train)\n",
        "    return model\n",
        "\n",
        "# Function to predict flood attack\n",
        "def predict_flood_attack(sflow_data):\n",
        "    model = train_dummy_model()\n",
        "    features = extract_features(sflow_data)\n",
        "    prediction = model.predict(features)\n",
        "    return \"Attack\" if prediction[0] == 1 else \"Normal\"\n",
        "\n",
        "# Path to sFlow data file\n",
        "file_path = '/content/sflow-data.json'  # Change this to the actual file path\n",
        "\n",
        "# Load sFlow data from file\n",
        "sflow_data = load_sflow_data(file_path)\n",
        "\n",
        "# Predict if it's a flood attack\n",
        "result = predict_flood_attack(sflow_data)\n",
        "print(result)\n"
      ]
    },
    {
      "cell_type": "code",
      "source": [
        "import json\n",
        "import numpy as np\n",
        "from sklearn.tree import DecisionTreeClassifier\n",
        "\n",
        "def load_sflow_data_from_file(file_path):\n",
        "    with open(file_path, 'r') as file:\n",
        "        sflow_data = json.load(file)\n",
        "    return sflow_data\n",
        "\n",
        "def extract_udp_features(sflow_data):\n",
        "    udp_packets = [element for sample in sflow_data['samples'] for element in sample['elements'] if element['IPProtocol'] == '17']\n",
        "    packet_counts = len(udp_packets)\n",
        "    if packet_counts == 0:\n",
        "        return np.array([0, 0, 0]).reshape(1, -1)  # Return zeros if no UDP packets\n",
        "\n",
        "    total_packet_size = sum(int(packet['sampledPacketSize']) for packet in udp_packets)\n",
        "    average_packet_size = total_packet_size / packet_counts\n",
        "    dst_ips = [packet['dstIP'] for packet in udp_packets]\n",
        "    most_common_dst_ip = max(set(dst_ips), key=dst_ips.count)  # Assuming the most targeted IP is the one with the highest packet count\n",
        "    packets_to_common_dst_ip = dst_ips.count(most_common_dst_ip)\n",
        "\n",
        "    # Features: Number of UDP packets, average UDP packet size, packets to the most common destination IP\n",
        "    features = np.array([packet_counts, average_packet_size, packets_to_common_dst_ip]).reshape(1, -1)\n",
        "    return features\n",
        "\n",
        "def train_dummy_model():\n",
        "    # Dummy training data for demonstration\n",
        "    X_train = np.array([[500, 1400, 500], [10, 64, 2], [300, 1200, 300]])  # Add more realistic training data\n",
        "    y_train = np.array([1, 0, 1])  # Labels: 1 for attack, 0 for normal\n",
        "    model = DecisionTreeClassifier()\n",
        "    model.fit(X_train, y_train)\n",
        "    return model\n",
        "\n",
        "def predict_udp_flood_attack(file_path):\n",
        "    sflow_data = load_sflow_data_from_file(file_path)\n",
        "    model = train_dummy_model()  # In real use, load a pre-trained model\n",
        "    features = extract_udp_features(sflow_data)\n",
        "    prediction = model.predict(features)\n",
        "    return \"UDP Flood Attack\" if prediction[0] == 1 else \"Normal\"\n",
        "\n",
        "file_path = '/content/sflow-data.json'  # Ensure this path is correct\n",
        "result = predict_udp_flood_attack(file_path)\n",
        "print(result)\n"
      ],
      "metadata": {
        "colab": {
          "base_uri": "https://localhost:8080/"
        },
        "id": "vBEAMEtO6zhb",
        "outputId": "21747be2-4afb-4f53-8b0e-3b3ca9b59118"
      },
      "execution_count": 2,
      "outputs": [
        {
          "output_type": "stream",
          "name": "stdout",
          "text": [
            "Normal\n"
          ]
        }
      ]
    }
  ]
}